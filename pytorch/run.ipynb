{
 "cells": [
  {
   "cell_type": "code",
   "execution_count": 6,
   "id": "4bdc522c-20e3-4a3c-92c2-20d416f9e751",
   "metadata": {},
   "outputs": [],
   "source": [
    "!cd /Users/sakazuho/Desktop/HKUST/second_term/5002/5002_individual_project/pytorch"
   ]
  },
  {
   "cell_type": "code",
   "execution_count": 7,
   "id": "a058e29a-6cc3-431d-aad7-2ee3839c84bf",
   "metadata": {},
   "outputs": [
    {
     "name": "stdout",
     "output_type": "stream",
     "text": [
      "\u001b[1m\u001b[36msdwpf_baidukddcup2022_test_toy\u001b[m\u001b[m\n"
     ]
    }
   ],
   "source": []
  },
  {
   "cell_type": "code",
   "execution_count": null,
   "id": "fbab07d1-707a-44f1-b649-c7e41ee783a4",
   "metadata": {},
   "outputs": [],
   "source": []
  }
 ],
 "metadata": {
  "kernelspec": {
   "display_name": "Python 3",
   "language": "python",
   "name": "python3"
  },
  "language_info": {
   "codemirror_mode": {
    "name": "ipython",
    "version": 3
   },
   "file_extension": ".py",
   "mimetype": "text/x-python",
   "name": "python",
   "nbconvert_exporter": "python",
   "pygments_lexer": "ipython3",
   "version": "3.9.16"
  }
 },
 "nbformat": 4,
 "nbformat_minor": 5
}
